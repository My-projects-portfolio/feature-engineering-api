{
 "cells": [
  {
   "cell_type": "code",
   "execution_count": null,
   "id": "652ab593",
   "metadata": {},
   "outputs": [],
   "source": [
    "from fastapi import FastAPI, UploadFile, File\n",
    "import pandas as pd\n",
    "import json\n",
    "import io\n",
    "\n",
    "app = FastAPI()\n",
    "\n",
    "# Feature engineering logic\n",
    "def process_json_file(content):\n",
    "    raw_json = json.load(io.BytesIO(content))\n",
    "    all_loans = []\n",
    "    for customer in raw_json[\"data\"]:\n",
    "        for loan in customer[\"loans\"]:\n",
    "            all_loans.append(loan)\n",
    "    df = pd.DataFrame(all_loans)\n",
    "\n",
    "    # Convert types\n",
    "    df[\"amount\"] = pd.to_numeric(df[\"amount\"])\n",
    "    df[\"fee\"] = pd.to_numeric(df[\"fee\"])\n",
    "    df[\"loan_status\"] = pd.to_numeric(df[\"loan_status\"])\n",
    "    df[\"annual_income\"] = pd.to_numeric(df[\"annual_income\"])\n",
    "\n",
    "    # Group and aggregate\n",
    "    features = df.groupby(\"customer_ID\").agg({\n",
    "        \"amount\": [\"sum\", \"mean\", \"count\"],\n",
    "        \"fee\": \"mean\",\n",
    "        \"loan_status\": \"mean\",\n",
    "        \"term\": lambda x: x.mode()[0] if not x.mode().empty else \"unknown\",\n",
    "        \"annual_income\": \"first\"\n",
    "    })\n",
    "\n",
    "    features.columns = ['_'.join(col).strip('_') for col in features.columns]\n",
    "    features.reset_index(inplace=True)\n",
    "\n",
    "    return features.to_dict(orient=\"records\")\n",
    "\n",
    "\n",
    "# ---------- ROUTES ----------\n",
    "\n",
    "@app.get(\"/health\")\n",
    "def health_check():\n",
    "    return {\"status\": \"UP\"}\n",
    "\n",
    "\n",
    "@app.post(\"/features\")\n",
    "async def generate_features(file: UploadFile = File(...)):\n",
    "    content = await file.read()\n",
    "    result = process_json_file(content)\n",
    "    return {\"features\": result}\n"
   ]
  }
 ],
 "metadata": {
  "kernelspec": {
   "display_name": "Python 3 (ipykernel)",
   "language": "python",
   "name": "python3"
  },
  "language_info": {
   "codemirror_mode": {
    "name": "ipython",
    "version": 3
   },
   "file_extension": ".py",
   "mimetype": "text/x-python",
   "name": "python",
   "nbconvert_exporter": "python",
   "pygments_lexer": "ipython3",
   "version": "3.11.4"
  }
 },
 "nbformat": 4,
 "nbformat_minor": 5
}
