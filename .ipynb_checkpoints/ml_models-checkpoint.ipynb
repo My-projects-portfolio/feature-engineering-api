{
 "cells": [
  {
   "cell_type": "code",
   "execution_count": 7,
   "id": "b3a36a27",
   "metadata": {},
   "outputs": [],
   "source": [
    "\n"
   ]
  },
  {
   "cell_type": "code",
   "execution_count": null,
   "id": "5097ad32",
   "metadata": {},
   "outputs": [],
   "source": [
    "import pandas as pd\n",
    "from sklearn.model_selection import train_test_split\n",
    "from sklearn.ensemble import RandomForestClassifier\n",
    "from sklearn.cluster import KMeans\n",
    "from sklearn.linear_model import LinearRegression\n",
    "from sklearn.metrics import classification_report, mean_squared_error\n",
    "\n",
    "print(\"📊 Loading dataset...\")\n",
    "df = pd.read_csv(\"data/customer_features.csv\")\n",
    "\n",
    "# ----------------------- Classification ------------------------\n",
    "print(\"\\n🔍 Classification: Predicting Default Flag\")\n",
    "\n",
    "df[\"default_flag\"] = (df[\"default_rate\"] > 0.5).astype(int)\n",
    "\n",
    "X_cls = df[[\"total_loan\", \"avg_loan\", \"loan_count\", \"avg_fee\", \"annual_income_first\"]]\n",
    "y_cls = df[\"default_flag\"]\n",
    "\n",
    "X_train, X_test, y_train, y_test = train_test_split(X_cls, y_cls, test_size=0.2)\n",
    "\n",
    "clf = RandomForestClassifier()\n",
    "clf.fit(X_train, y_train)\n",
    "y_pred_cls = clf.predict(X_test)\n",
    "\n",
    "print(\"📌 Classification Report:\")\n",
    "print(classification_report(y_test, y_pred_cls))\n",
    "\n",
    "# ----------------------- Clustering ------------------------\n",
    "print(\"\\n🔍 Clustering: Segmenting Customers\")\n",
    "\n",
    "X_clu = X_cls  # same features\n",
    "\n",
    "kmeans = KMeans(n_clusters=3, random_state=42)\n",
    "df[\"cluster\"] = kmeans.fit_predict(X_clu)\n",
    "\n",
    "print(\"📌 Cluster Sizes:\")\n",
    "print(df[\"cluster\"].value_counts())\n",
    "\n",
    "# ----------------------- Regression ------------------------\n",
    "print(\"\\n🔍 Regression: Predicting Total Loan\")\n",
    "\n",
    "X_reg = df[[\"avg_loan\", \"loan_count\", \"avg_fee\", \"annual_income_first\"]]\n",
    "y_reg = df[\"total_loan\"]\n",
    "\n",
    "X_train, X_test, y_train, y_test = train_test_split(X_reg, y_reg, test_size=0.2)\n",
    "\n",
    "reg = LinearRegression()\n",
    "reg.fit(X_train, y_train)\n",
    "y_pred_reg = reg.predict(X_test)\n",
    "\n",
    "rmse = mean_squared_error(y_test, y_pred_reg, squared=False)\n",
    "print(f\"📌 Regression RMSE: {rmse:.2f}\")\n",
    "\n",
    "# ----------------------- Save Results ------------------------\n",
    "df.to_csv(\"data/customer_features_with_cluster.csv\", index=False)\n",
    "print(\"\\n✅ All models completed. Results saved to 'data/customer_features_with_cluster.csv'\")\n"
   ]
  }
 ],
 "metadata": {
  "kernelspec": {
   "display_name": "Python 3 (ipykernel)",
   "language": "python",
   "name": "python3"
  },
  "language_info": {
   "codemirror_mode": {
    "name": "ipython",
    "version": 3
   },
   "file_extension": ".py",
   "mimetype": "text/x-python",
   "name": "python",
   "nbconvert_exporter": "python",
   "pygments_lexer": "ipython3",
   "version": "3.11.4"
  }
 },
 "nbformat": 4,
 "nbformat_minor": 5
}
